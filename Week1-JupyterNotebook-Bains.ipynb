{
 "cells": [
  {
   "cell_type": "markdown",
   "id": "e1816234",
   "metadata": {},
   "source": [
    "# Week 1: Polynomial and Interaction Terms\n",
    "\n",
    "This notebook explores the use of polynomial and interaction terms in modeling severity levels of cybersecurity attacks using the provided dataset.\n"
   ]
  },
  {
   "cell_type": "code",
   "execution_count": 1,
   "id": "2ea83df1",
   "metadata": {},
   "outputs": [
    {
     "data": {
      "text/html": [
       "<div>\n",
       "<style scoped>\n",
       "    .dataframe tbody tr th:only-of-type {\n",
       "        vertical-align: middle;\n",
       "    }\n",
       "\n",
       "    .dataframe tbody tr th {\n",
       "        vertical-align: top;\n",
       "    }\n",
       "\n",
       "    .dataframe thead th {\n",
       "        text-align: right;\n",
       "    }\n",
       "</style>\n",
       "<table border=\"1\" class=\"dataframe\">\n",
       "  <thead>\n",
       "    <tr style=\"text-align: right;\">\n",
       "      <th></th>\n",
       "      <th>Packet Length</th>\n",
       "      <th>Anomaly Scores</th>\n",
       "      <th>Source Port</th>\n",
       "      <th>Destination Port</th>\n",
       "    </tr>\n",
       "  </thead>\n",
       "  <tbody>\n",
       "    <tr>\n",
       "      <th>count</th>\n",
       "      <td>40000.000000</td>\n",
       "      <td>40000.000000</td>\n",
       "      <td>40000.000000</td>\n",
       "      <td>40000.000000</td>\n",
       "    </tr>\n",
       "    <tr>\n",
       "      <th>mean</th>\n",
       "      <td>781.452725</td>\n",
       "      <td>50.113473</td>\n",
       "      <td>32970.356450</td>\n",
       "      <td>33150.868650</td>\n",
       "    </tr>\n",
       "    <tr>\n",
       "      <th>std</th>\n",
       "      <td>416.044192</td>\n",
       "      <td>28.853598</td>\n",
       "      <td>18560.425604</td>\n",
       "      <td>18574.668842</td>\n",
       "    </tr>\n",
       "    <tr>\n",
       "      <th>min</th>\n",
       "      <td>64.000000</td>\n",
       "      <td>0.000000</td>\n",
       "      <td>1027.000000</td>\n",
       "      <td>1024.000000</td>\n",
       "    </tr>\n",
       "    <tr>\n",
       "      <th>25%</th>\n",
       "      <td>420.000000</td>\n",
       "      <td>25.150000</td>\n",
       "      <td>16850.750000</td>\n",
       "      <td>17094.750000</td>\n",
       "    </tr>\n",
       "    <tr>\n",
       "      <th>50%</th>\n",
       "      <td>782.000000</td>\n",
       "      <td>50.345000</td>\n",
       "      <td>32856.000000</td>\n",
       "      <td>33004.500000</td>\n",
       "    </tr>\n",
       "    <tr>\n",
       "      <th>75%</th>\n",
       "      <td>1143.000000</td>\n",
       "      <td>75.030000</td>\n",
       "      <td>48928.250000</td>\n",
       "      <td>49287.000000</td>\n",
       "    </tr>\n",
       "    <tr>\n",
       "      <th>max</th>\n",
       "      <td>1500.000000</td>\n",
       "      <td>100.000000</td>\n",
       "      <td>65530.000000</td>\n",
       "      <td>65535.000000</td>\n",
       "    </tr>\n",
       "  </tbody>\n",
       "</table>\n",
       "</div>"
      ],
      "text/plain": [
       "       Packet Length  Anomaly Scores   Source Port  Destination Port\n",
       "count   40000.000000    40000.000000  40000.000000      40000.000000\n",
       "mean      781.452725       50.113473  32970.356450      33150.868650\n",
       "std       416.044192       28.853598  18560.425604      18574.668842\n",
       "min        64.000000        0.000000   1027.000000       1024.000000\n",
       "25%       420.000000       25.150000  16850.750000      17094.750000\n",
       "50%       782.000000       50.345000  32856.000000      33004.500000\n",
       "75%      1143.000000       75.030000  48928.250000      49287.000000\n",
       "max      1500.000000      100.000000  65530.000000      65535.000000"
      ]
     },
     "execution_count": 1,
     "metadata": {},
     "output_type": "execute_result"
    }
   ],
   "source": [
    "import pandas as pd\n",
    "\n",
    "# Load dataset\n",
    "df = pd.read_csv(\"cybersecurity_attacks.csv\")\n",
    "df = df[df[\"Severity Level\"].notna()]\n",
    "severity_map = {\"Low\": 0, \"Medium\": 1, \"High\": 2, \"Critical\": 3}\n",
    "df[\"Severity_Level_Num\"] = df[\"Severity Level\"].map(severity_map)\n",
    "\n",
    "# Select features\n",
    "features = [\"Packet Length\", \"Anomaly Scores\", \"Source Port\", \"Destination Port\"]\n",
    "X_base = df[features]\n",
    "y = df[\"Severity_Level_Num\"]\n",
    "X_base.describe()\n"
   ]
  },
  {
   "cell_type": "code",
   "execution_count": 2,
   "id": "c5ee7c86",
   "metadata": {},
   "outputs": [],
   "source": [
    "from sklearn.preprocessing import PolynomialFeatures, StandardScaler\n",
    "\n",
    "# Create polynomial and interaction terms\n",
    "poly = PolynomialFeatures(degree=2, interaction_only=False, include_bias=False)\n",
    "X_poly = poly.fit_transform(X_base)\n",
    "\n",
    "# Scale features\n",
    "scaler = StandardScaler()\n",
    "X_scaled = scaler.fit_transform(X_poly)\n",
    "\n",
    "# Get feature names\n",
    "poly_feature_names = poly.get_feature_names_out(features)\n"
   ]
  },
  {
   "cell_type": "code",
   "execution_count": 3,
   "id": "506eb0b3",
   "metadata": {},
   "outputs": [
    {
     "name": "stdout",
     "output_type": "stream",
     "text": [
      "              precision    recall  f1-score   support\n",
      "\n",
      "           0       0.31      0.17      0.22      2673\n",
      "           1       0.33      0.38      0.36      2729\n",
      "           2       0.32      0.42      0.37      2598\n",
      "\n",
      "    accuracy                           0.32      8000\n",
      "   macro avg       0.32      0.33      0.31      8000\n",
      "weighted avg       0.32      0.32      0.31      8000\n",
      "\n"
     ]
    }
   ],
   "source": [
    "from sklearn.model_selection import train_test_split\n",
    "from sklearn.linear_model import LogisticRegression\n",
    "from sklearn.metrics import classification_report, confusion_matrix\n",
    "\n",
    "# Train/test split\n",
    "X_train, X_test, y_train, y_test = train_test_split(X_scaled, y, test_size=0.2, random_state=42)\n",
    "\n",
    "# Train logistic regression\n",
    "model = LogisticRegression(max_iter=500)\n",
    "model.fit(X_train, y_train)\n",
    "\n",
    "# Predictions\n",
    "y_pred = model.predict(X_test)\n",
    "\n",
    "# Evaluation\n",
    "report = classification_report(y_test, y_pred)\n",
    "print(report)\n"
   ]
  },
  {
   "cell_type": "code",
   "execution_count": 4,
   "id": "8a83d0d7",
   "metadata": {},
   "outputs": [
    {
     "data": {
      "image/png": "[encoded data removed]",
      "text/plain": [
       "<Figure size 600x500 with 2 Axes>"
      ]
     },
     "metadata": {},
     "output_type": "display_data"
    }
   ],
   "source": [
    "import seaborn as sns\n",
    "import matplotlib.pyplot as plt\n",
    "\n",
    "conf_matrix = confusion_matrix(y_test, y_pred)\n",
    "\n",
    "plt.figure(figsize=(6, 5))\n",
    "sns.heatmap(conf_matrix, annot=True, fmt=\"d\", cmap=\"Blues\",\n",
    "            xticklabels=severity_map.keys(), yticklabels=severity_map.keys())\n",
    "plt.xlabel(\"Predicted\")\n",
    "plt.ylabel(\"Actual\")\n",
    "plt.title(\"Confusion Matrix - Logistic Regression with Polynomial Features\")\n",
    "plt.tight_layout()\n",
    "plt.show()\n"
   ]
  }
 ],
 "metadata": {
  "kernelspec": {
   "display_name": "Python 3",
   "language": "python",
   "name": "python3"
  },
  "language_info": {
   "codemirror_mode": {
    "name": "ipython",
    "version": 3
   },
   "file_extension": ".py",
   "mimetype": "text/x-python",
   "name": "python",
   "nbconvert_exporter": "python",
   "pygments_lexer": "ipython3",
   "version": "3.12.1"
  }
 },
 "nbformat": 4,
 "nbformat_minor": 5
}
