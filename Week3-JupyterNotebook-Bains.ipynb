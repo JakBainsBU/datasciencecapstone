{
 "cells": [
  {
   "cell_type": "markdown",
   "id": "20f8b8e7",
   "metadata": {},
   "source": [
    "# Week 3: Feature Selection, PCR, and PLSR\n",
    "\n",
    "This notebook applies various regression modeling strategies—forward selection, principal component regression (PCR), and partial least squares regression (PLSR)—to predict the severity level of cybersecurity incidents.\n"
   ]
  },
  {
   "cell_type": "code",
   "execution_count": 1,
   "id": "c304df6a",
   "metadata": {},
   "outputs": [],
   "source": [
    "import pandas as pd\n",
    "from sklearn.preprocessing import StandardScaler\n",
    "\n",
    "# Load data\n",
    "df = pd.read_csv(\"cybersecurity_attacks.csv\")\n",
    "df = df[df[\"Severity Level\"].notna()]\n",
    "severity_map = {\"Low\": 0, \"Medium\": 1, \"High\": 2, \"Critical\": 3}\n",
    "df[\"Severity_Level_Num\"] = df[\"Severity Level\"].map(severity_map)\n",
    "\n",
    "# Select features and target\n",
    "features = [\"Packet Length\", \"Anomaly Scores\", \"Source Port\", \"Destination Port\"]\n",
    "X = df[features]\n",
    "y = df[\"Severity_Level_Num\"]\n",
    "\n",
    "# Standardize features\n",
    "scaler = StandardScaler()\n",
    "X_scaled = scaler.fit_transform(X)\n"
   ]
  },
  {
   "cell_type": "code",
   "execution_count": 2,
   "id": "25bfab81",
   "metadata": {},
   "outputs": [],
   "source": [
    "from sklearn.model_selection import train_test_split\n",
    "from sklearn.linear_model import LinearRegression\n",
    "from sklearn.feature_selection import SequentialFeatureSelector\n",
    "from sklearn.decomposition import PCA\n",
    "from sklearn.cross_decomposition import PLSRegression\n",
    "from sklearn.metrics import mean_squared_error\n",
    "\n",
    "# Train/test split\n",
    "X_train, X_test, y_train, y_test = train_test_split(X_scaled, y, test_size=0.2, random_state=42)\n",
    "\n",
    "# Linear Regression\n",
    "lr = LinearRegression()\n",
    "lr.fit(X_train, y_train)\n",
    "y_pred_lr = lr.predict(X_test)\n",
    "lr_mse = mean_squared_error(y_test, y_pred_lr)\n",
    "\n",
    "# Forward Selection\n",
    "sfs = SequentialFeatureSelector(lr, direction='forward', n_features_to_select='auto')\n",
    "sfs.fit(X_train, y_train)\n",
    "X_train_sfs = sfs.transform(X_train)\n",
    "X_test_sfs = sfs.transform(X_test)\n",
    "lr.fit(X_train_sfs, y_train)\n",
    "y_pred_sfs = lr.predict(X_test_sfs)\n",
    "sfs_mse = mean_squared_error(y_test, y_pred_sfs)\n",
    "\n",
    "# PCR\n",
    "pca = PCA(n_components=4)\n",
    "X_train_pca = pca.fit_transform(X_train)\n",
    "X_test_pca = pca.transform(X_test)\n",
    "lr.fit(X_train_pca, y_train)\n",
    "y_pred_pcr = lr.predict(X_test_pca)\n",
    "pcr_mse = mean_squared_error(y_test, y_pred_pcr)\n",
    "\n",
    "# PLSR\n",
    "pls = PLSRegression(n_components=2)\n",
    "pls.fit(X_train, y_train)\n",
    "y_pred_pls = pls.predict(X_test)\n",
    "pls_mse = mean_squared_error(y_test, y_pred_pls)\n"
   ]
  },
  {
   "cell_type": "code",
   "execution_count": 3,
   "id": "172cc93b",
   "metadata": {},
   "outputs": [
    {
     "data": {
      "text/html": [
       "<div>\n",
       "<style scoped>\n",
       "    .dataframe tbody tr th:only-of-type {\n",
       "        vertical-align: middle;\n",
       "    }\n",
       "\n",
       "    .dataframe tbody tr th {\n",
       "        vertical-align: top;\n",
       "    }\n",
       "\n",
       "    .dataframe thead th {\n",
       "        text-align: right;\n",
       "    }\n",
       "</style>\n",
       "<table border=\"1\" class=\"dataframe\">\n",
       "  <thead>\n",
       "    <tr style=\"text-align: right;\">\n",
       "      <th></th>\n",
       "      <th>Model</th>\n",
       "      <th>MSE</th>\n",
       "    </tr>\n",
       "  </thead>\n",
       "  <tbody>\n",
       "    <tr>\n",
       "      <th>0</th>\n",
       "      <td>Linear Regression</td>\n",
       "      <td>0.659429</td>\n",
       "    </tr>\n",
       "    <tr>\n",
       "      <th>1</th>\n",
       "      <td>Forward Selection</td>\n",
       "      <td>0.659161</td>\n",
       "    </tr>\n",
       "    <tr>\n",
       "      <th>2</th>\n",
       "      <td>PCR</td>\n",
       "      <td>0.659429</td>\n",
       "    </tr>\n",
       "    <tr>\n",
       "      <th>3</th>\n",
       "      <td>PLSR</td>\n",
       "      <td>0.659429</td>\n",
       "    </tr>\n",
       "  </tbody>\n",
       "</table>\n",
       "</div>"
      ],
      "text/plain": [
       "               Model       MSE\n",
       "0  Linear Regression  0.659429\n",
       "1  Forward Selection  0.659161\n",
       "2                PCR  0.659429\n",
       "3               PLSR  0.659429"
      ]
     },
     "execution_count": 3,
     "metadata": {},
     "output_type": "execute_result"
    }
   ],
   "source": [
    "import pandas as pd\n",
    "\n",
    "results = pd.DataFrame({\n",
    "    \"Model\": [\"Linear Regression\", \"Forward Selection\", \"PCR\", \"PLSR\"],\n",
    "    \"MSE\": [lr_mse, sfs_mse, pcr_mse, pls_mse]\n",
    "})\n",
    "results"
   ]
  }
 ],
 "metadata": {
  "kernelspec": {
   "display_name": "Python 3",
   "language": "python",
   "name": "python3"
  },
  "language_info": {
   "codemirror_mode": {
    "name": "ipython",
    "version": 3
   },
   "file_extension": ".py",
   "mimetype": "text/x-python",
   "name": "python",
   "nbconvert_exporter": "python",
   "pygments_lexer": "ipython3",
   "version": "3.12.1"
  }
 },
 "nbformat": 4,
 "nbformat_minor": 5
}
